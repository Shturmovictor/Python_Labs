{
 "cells": [
  {
   "cell_type": "markdown",
   "id": "efa71526-1892-4d46-bd7e-678246b1bbc5",
   "metadata": {},
   "source": [
    "## НТ2"
   ]
  },
  {
   "cell_type": "markdown",
   "id": "2de9478c-6298-4449-a522-ac648d7e8ba5",
   "metadata": {},
   "source": [
    "### Задание\n",
    "Исследовать качество работы классификаторы в зависимости от выбранного метода преобразования данных\n",
    "\n",
    "Изучить методы преобразования данных: from sklearn.preprocessing https://scikit-learn.org/stable/modules/preprocessing.html\n",
    "\n",
    "Критерий качества - accuracy\n",
    "\n",
    "Сформировать таблицу для сравнения"
   ]
  },
  {
   "cell_type": "code",
   "execution_count": 2,
   "id": "528c2408-edd1-4a09-b894-e8bc50b9567e",
   "metadata": {},
   "outputs": [],
   "source": [
    "import pandas as pd\n",
    "from sklearn.datasets import load_iris\n",
    "from sklearn.model_selection import train_test_split\n",
    "from sklearn.neighbors import KNeighborsClassifier\n",
    "from sklearn.metrics import accuracy_score\n",
    "from sklearn.preprocessing import StandardScaler, MinMaxScaler, MaxAbsScaler, RobustScaler, Normalizer"
   ]
  },
  {
   "cell_type": "code",
   "execution_count": 3,
   "id": "e5f7fb5c-28cb-48a0-85c0-4cbc0f47846f",
   "metadata": {},
   "outputs": [],
   "source": [
    "data = load_iris()\n",
    "X = data.data\n",
    "y = data.target"
   ]
  },
  {
   "cell_type": "markdown",
   "id": "6873e9ca-9de5-44e0-a72c-73be22d65070",
   "metadata": {},
   "source": [
    "Список методов для тестирования"
   ]
  },
  {
   "cell_type": "code",
   "execution_count": 4,
   "id": "db44f7ea-c8ca-4dd7-b014-c5ad7425bcec",
   "metadata": {},
   "outputs": [],
   "source": [
    "scalers = {\n",
    "    'MaxAbsScaler': MaxAbsScaler(),\n",
    "    'StandardScaler': StandardScaler(),\n",
    "    'MinMaxScaler': MinMaxScaler(),\n",
    "    'RobustScaler': RobustScaler()\n",
    "}"
   ]
  },
  {
   "cell_type": "code",
   "execution_count": 6,
   "id": "1856d012-cb67-4b09-8180-a22c6f053e2f",
   "metadata": {},
   "outputs": [],
   "source": [
    "classifier = KNeighborsClassifier(n_neighbors=2)"
   ]
  },
  {
   "cell_type": "code",
   "execution_count": 7,
   "id": "4df592ad-e263-4f69-9eb7-53ec34fc7727",
   "metadata": {},
   "outputs": [],
   "source": [
    " results = [] # Словарь для хранения результатов"
   ]
  },
  {
   "cell_type": "code",
   "execution_count": 8,
   "id": "20bead49-0af6-4017-ac2e-3dc4c1e14f02",
   "metadata": {},
   "outputs": [],
   "source": [
    "# Разделение данных на обучающую и тестовую выборки\n",
    "X_train, X_test, y_train, y_test = train_test_split(X, y, test_size=0.2, random_state=0)"
   ]
  },
  {
   "cell_type": "code",
   "execution_count": 9,
   "id": "66455de6-d934-4086-b209-e1cd8badbedc",
   "metadata": {},
   "outputs": [],
   "source": [
    "# Цикл по методам преобразования\n",
    "for scaler_name, scaler in scalers.items():\n",
    "    # Преобразование обучающих и тестовых данных\n",
    "    X_train_scaled = scaler.fit_transform(X_train)\n",
    "    X_test_scaled = scaler.transform(X_test)\n",
    "\n",
    "    # Обучение и предсказание\n",
    "    classifier.fit(X_train_scaled, y_train)\n",
    "    y_pred = classifier.predict(X_test_scaled)\n",
    "\n",
    "    # Оценка точности\n",
    "    accuracy = accuracy_score(y_test, y_pred)\n",
    "\n",
    "    # Сохраняем результаты\n",
    "    results.append([scaler_name, accuracy])"
   ]
  },
  {
   "cell_type": "code",
   "execution_count": 10,
   "id": "c1a5ea2b-f9e2-400a-88d1-72a0085e1698",
   "metadata": {},
   "outputs": [
    {
     "name": "stdout",
     "output_type": "stream",
     "text": [
      "           Scaler  Accuracy\n",
      "0    MaxAbsScaler  0.966667\n",
      "1  StandardScaler  0.966667\n",
      "2    MinMaxScaler  0.966667\n",
      "3    RobustScaler  0.966667\n"
     ]
    }
   ],
   "source": [
    "results_df = pd.DataFrame(results, columns=[\"Scaler\", \"Accuracy\"])\n",
    "print(results_df)"
   ]
  }
 ],
 "metadata": {
  "kernelspec": {
   "display_name": "Python 3 (ipykernel)",
   "language": "python",
   "name": "python3"
  },
  "language_info": {
   "codemirror_mode": {
    "name": "ipython",
    "version": 3
   },
   "file_extension": ".py",
   "mimetype": "text/x-python",
   "name": "python",
   "nbconvert_exporter": "python",
   "pygments_lexer": "ipython3",
   "version": "3.12.0"
  }
 },
 "nbformat": 4,
 "nbformat_minor": 5
}
